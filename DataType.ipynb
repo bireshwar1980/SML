{
  "cells": [
    {
      "cell_type": "markdown",
      "metadata": {
        "id": "view-in-github",
        "colab_type": "text"
      },
      "source": [
        "<a href=\"https://colab.research.google.com/github/bireshwar1980/SML/blob/main/DataType.ipynb\" target=\"_parent\"><img src=\"https://colab.research.google.com/assets/colab-badge.svg\" alt=\"Open In Colab\"/></a>"
      ]
    },
    {
      "cell_type": "code",
      "execution_count": null,
      "metadata": {
        "colab": {
          "base_uri": "https://localhost:8080/"
        },
        "id": "a38oNPcE5X8J",
        "outputId": "96ab54ee-f28d-4603-f8e8-d3abad016c6a"
      },
      "outputs": [
        {
          "name": "stdout",
          "output_type": "stream",
          "text": [
            "<class 'int'>\n",
            "True\n"
          ]
        }
      ],
      "source": [
        "# Numeric data types\n",
        "\n",
        "# integer type\n",
        "price = 100\n",
        "best_price = int(80)\n",
        "print(type(price))\n",
        "print(isinstance(best_price, int))\n"
      ]
    },
    {
      "cell_type": "code",
      "execution_count": null,
      "metadata": {
        "id": "-uiNg35RaGGp"
      },
      "outputs": [],
      "source": [
        "distance = float(input(\"Enter the distance of the trip in kilometers: \"))\n",
        "\n",
        "cost_per_km = float(input(\"Enter the cost per kilometer in ₹: \"))\n",
        "\n",
        "\n",
        "\n",
        "total_expense = distance * cost_per_km\n",
        "\n",
        "print(\"The total travel expense for {} km at ₹{} per km is ₹{}.\".format(distance, cost_per_km, total_expense))\n",
        "\n"
      ]
    },
    {
      "cell_type": "code",
      "execution_count": null,
      "metadata": {
        "colab": {
          "base_uri": "https://localhost:8080/"
        },
        "id": "3ft4nLNg6PDi",
        "outputId": "7a8939f8-647e-477a-dab4-4d9c10fd3085"
      },
      "outputs": [
        {
          "name": "stdout",
          "output_type": "stream",
          "text": [
            "<class 'float'>\n"
          ]
        }
      ],
      "source": [
        "# float type\n",
        "gpa = 3.28\n",
        "y = float(1.14)\n",
        "print(type(gpa))"
      ]
    },
    {
      "cell_type": "code",
      "execution_count": null,
      "metadata": {
        "colab": {
          "base_uri": "https://localhost:8080/"
        },
        "id": "6fq9a6wW6dyo",
        "outputId": "9ac40a93-1dcf-44b9-daf7-8fca90b1dad8"
      },
      "outputs": [
        {
          "name": "stdout",
          "output_type": "stream",
          "text": [
            "<class 'complex'>\n",
            "5.0\n",
            "3.0\n"
          ]
        }
      ],
      "source": [
        "# complex type\n",
        "comp_value =5 +3j\n",
        "print(type(comp_value))\n",
        "print(comp_value.real)\n",
        "print(comp_value.imag)"
      ]
    },
    {
      "cell_type": "code",
      "execution_count": null,
      "metadata": {
        "colab": {
          "base_uri": "https://localhost:8080/"
        },
        "id": "O2dlcJN7szdk",
        "outputId": "14898007-fb8e-4b39-d30b-c6c11d372770"
      },
      "outputs": [
        {
          "name": "stdout",
          "output_type": "stream",
          "text": [
            "<class 'NoneType'>\n"
          ]
        }
      ],
      "source": [
        "a = None\n",
        "print(type(a))\n"
      ]
    },
    {
      "cell_type": "code",
      "execution_count": null,
      "metadata": {
        "colab": {
          "base_uri": "https://localhost:8080/"
        },
        "id": "QmlZcDRS6um2",
        "outputId": "45d32949-6ee9-4341-a244-dbe360bb4f60"
      },
      "outputs": [
        {
          "name": "stdout",
          "output_type": "stream",
          "text": [
            "3.28\n",
            "3.28\n",
            "3\n",
            "3.3\n"
          ]
        }
      ],
      "source": [
        "print(abs(gpa))\n",
        "print(abs(gpa * -1))\n",
        "\n",
        "print(round(gpa))\n",
        "\n",
        "print(round(gpa, 1))"
      ]
    },
    {
      "cell_type": "code",
      "execution_count": null,
      "metadata": {
        "colab": {
          "base_uri": "https://localhost:8080/"
        },
        "id": "oJi0d3sx7FjC",
        "outputId": "c0313be3-22ea-4344-c6e2-db07d15ea2ac"
      },
      "outputs": [
        {
          "name": "stdout",
          "output_type": "stream",
          "text": [
            "<class 'str'>\n",
            "<class 'int'>\n",
            "<class 'float'>\n"
          ]
        }
      ],
      "source": [
        "# Casting a string to a number\n",
        "zipcode = \"10001\"\n",
        "print(type(zipcode))\n",
        "zip_value = int(zipcode)\n",
        "print(type(zip_value))\n",
        "zip_value1 = float(zipcode)\n",
        "print(type(zip_value1))"
      ]
    },
    {
      "cell_type": "code",
      "execution_count": null,
      "metadata": {
        "colab": {
          "base_uri": "https://localhost:8080/"
        },
        "id": "uGbQ6ZMtLaKQ",
        "outputId": "8763f796-b9d3-450e-f096-e8631143a567"
      },
      "outputs": [
        {
          "name": "stdout",
          "output_type": "stream",
          "text": [
            "t\n",
            "y\n",
            "r\n"
          ]
        }
      ],
      "source": [
        "a='Bennett University'\n",
        "print(a[5])\n",
        "\n",
        "print(a[-1])\n",
        "\n",
        "print(a[-5])\n",
        "\n",
        "\n"
      ]
    },
    {
      "cell_type": "code",
      "execution_count": null,
      "metadata": {
        "colab": {
          "base_uri": "https://localhost:8080/"
        },
        "id": "-DJVRTjJ80qZ",
        "outputId": "814030e0-2f05-40bb-dc8a-60b6eefd621d"
      },
      "outputs": [
        {
          "name": "stdout",
          "output_type": "stream",
          "text": [
            "False\n",
            "True\n",
            "False\n"
          ]
        }
      ],
      "source": [
        "users = ['Dave', 'John', 'Sara']\n",
        "\n",
        "data = ['Dave', 42, True]\n",
        "\n",
        "emptylist = []\n",
        "\n",
        "print(\"Dave\" in emptylist)\n",
        "print(\"Dave\" in data)\n",
        "print(\"42\" in users)"
      ]
    },
    {
      "cell_type": "code",
      "execution_count": null,
      "metadata": {
        "colab": {
          "base_uri": "https://localhost:8080/"
        },
        "id": "_MRCCWGc9TDg",
        "outputId": "97568578-59a3-4a2a-909e-acd894bbea0e"
      },
      "outputs": [
        {
          "name": "stdout",
          "output_type": "stream",
          "text": [
            "Dave\n",
            "John\n",
            "2\n"
          ]
        }
      ],
      "source": [
        "print(users[0])\n",
        "print(users[-2])\n",
        "\n",
        "print(users.index('Sara'))\n"
      ]
    },
    {
      "cell_type": "code",
      "execution_count": null,
      "metadata": {
        "colab": {
          "base_uri": "https://localhost:8080/"
        },
        "id": "q4VIXrxxAOM-",
        "outputId": "80987c66-eb20-41f6-afac-2ab92c20da2c"
      },
      "outputs": [
        {
          "name": "stdout",
          "output_type": "stream",
          "text": [
            "['History', 'Math', 'Physics', 'CompSci', 42]\n",
            "['History', 'Math', 'Physics', 'CompSci', 42]\n",
            "['Art', 'Math', 'Physics', 'CompSci', 42]\n",
            "['Art', 'Math', 'Physics', 'CompSci', 42]\n"
          ]
        }
      ],
      "source": [
        "# Mutable\n",
        "list_1 = ['History', 'Math', 'Physics', 'CompSci',42]\n",
        "list_2 = list_1\n",
        "\n",
        "print(list_1)\n",
        "print(list_2)\n",
        "\n",
        "list_1[0] = 'Art'\n",
        "\n",
        "print(list_1)\n",
        "print(list_2)"
      ]
    },
    {
      "cell_type": "code",
      "execution_count": null,
      "metadata": {
        "colab": {
          "base_uri": "https://localhost:8080/"
        },
        "id": "hI5Am6qRAmuT",
        "outputId": "f7298f60-5f69-4b88-b52f-030f56c93b36"
      },
      "outputs": [
        {
          "name": "stdout",
          "output_type": "stream",
          "text": [
            "('History', 'Math', 'Physics', 'CompSci', 42)\n",
            "('History', 'Math', 'Physics', 'CompSci', 42)\n"
          ]
        }
      ],
      "source": [
        "# Immutable\n",
        "tuple_1 = ('History', 'Math', 'Physics', 'CompSci',42)\n",
        "tuple_2 = tuple_1\n",
        "\n",
        "print(tuple_1)\n",
        "print(tuple_2)\n",
        "\n",
        "#tuple_1[0] = 'Art'\n",
        "\n",
        "# print(tuple_1)\n",
        "# print(tuple_2)\n"
      ]
    },
    {
      "cell_type": "code",
      "execution_count": null,
      "metadata": {
        "id": "GOerv0Y4ELb5"
      },
      "outputs": [],
      "source": []
    },
    {
      "cell_type": "code",
      "execution_count": null,
      "metadata": {
        "colab": {
          "base_uri": "https://localhost:8080/"
        },
        "id": "9oVdCc97BKh2",
        "outputId": "6d4ef558-65d1-4da9-e8b5-9bab41c36051"
      },
      "outputs": [
        {
          "name": "stdout",
          "output_type": "stream",
          "text": [
            "{'CompSci', 'Physics', 'History', 'Math'}\n"
          ]
        }
      ],
      "source": [
        "# Sets\n",
        "cs_courses = {'History', 'Math', 'Physics', 'CompSci'}\n",
        "\n",
        "print(cs_courses)\n",
        "\n"
      ]
    },
    {
      "cell_type": "code",
      "execution_count": null,
      "metadata": {
        "colab": {
          "base_uri": "https://localhost:8080/"
        },
        "id": "ayNcfZe0AnY6",
        "outputId": "89792ca7-e1ee-4b00-f083-a9a5f1984e1c"
      },
      "outputs": [
        {
          "name": "stdout",
          "output_type": "stream",
          "text": [
            "{'science', 'bennett', 'computer'}\n"
          ]
        }
      ],
      "source": [
        "myset = {\"bennett\",'computer',\"science\"}\n",
        "\n",
        "print(myset)\n",
        "\n",
        "\n"
      ]
    },
    {
      "cell_type": "code",
      "execution_count": null,
      "metadata": {
        "colab": {
          "base_uri": "https://localhost:8080/"
        },
        "id": "YL3ZzzoJqmLy",
        "outputId": "70b139a4-6d77-4c60-b527-dca4efe44385"
      },
      "outputs": [
        {
          "name": "stdout",
          "output_type": "stream",
          "text": [
            "Greetings! abc\n"
          ]
        }
      ],
      "source": [
        "print(\"Greetings! {}\".format(\"abc\"))"
      ]
    },
    {
      "cell_type": "code",
      "execution_count": null,
      "metadata": {
        "colab": {
          "base_uri": "https://localhost:8080/"
        },
        "id": "gA9FS-pprWif",
        "outputId": "a768ed2b-db79-44b4-d1c3-f55d1776814d"
      },
      "outputs": [
        {
          "name": "stdout",
          "output_type": "stream",
          "text": [
            "Greetings, abc\n"
          ]
        }
      ],
      "source": [
        "print(\"Greetings, {}\".format(\"abc\"))"
      ]
    },
    {
      "cell_type": "code",
      "execution_count": null,
      "metadata": {
        "colab": {
          "base_uri": "https://localhost:8080/"
        },
        "id": "uP2wDQ1drvWd",
        "outputId": "f779b419-afc6-4046-d27b-9671f32d86b3"
      },
      "outputs": [
        {
          "name": "stdout",
          "output_type": "stream",
          "text": [
            "3.14\n"
          ]
        }
      ],
      "source": [
        "print(\"{:.2f}\".format(3.14159))"
      ]
    },
    {
      "cell_type": "code",
      "execution_count": null,
      "metadata": {
        "colab": {
          "base_uri": "https://localhost:8080/"
        },
        "id": "7wHfLxY7sMZC",
        "outputId": "9d8a605f-9367-486d-8a24-bcf2431f6d43"
      },
      "outputs": [
        {
          "name": "stdout",
          "output_type": "stream",
          "text": [
            "132209709043024\n"
          ]
        }
      ],
      "source": [
        "z = 100\n",
        "\n",
        "print(id(z))\n",
        "\n"
      ]
    },
    {
      "cell_type": "code",
      "execution_count": null,
      "metadata": {
        "colab": {
          "base_uri": "https://localhost:8080/"
        },
        "id": "WJNky_wesWPI",
        "outputId": "9a06af0e-a944-4990-dbbf-e6b1bd50fe31"
      },
      "outputs": [
        {
          "name": "stdout",
          "output_type": "stream",
          "text": [
            "True\n"
          ]
        }
      ],
      "source": [
        "a = 50\n",
        "\n",
        "b = 50\n",
        "\n",
        "print(id(a) == id(b))\n",
        "\n"
      ]
    },
    {
      "cell_type": "code",
      "execution_count": null,
      "metadata": {
        "colab": {
          "base_uri": "https://localhost:8080/"
        },
        "id": "eD1sftlWtJ-G",
        "outputId": "63179af8-eb10-4c52-f9db-5d7d4d082e13"
      },
      "outputs": [
        {
          "name": "stdout",
          "output_type": "stream",
          "text": [
            "Enter your name: abc\n",
            "Enter your age:45\n",
            "Enter your enrollment No:b25\n",
            "Welcome abc\n",
            " Student Age : 45\n",
            " Student id :b25\n"
          ]
        }
      ],
      "source": [
        "name = input(\"Enter your name: \")\n",
        "age =int (input(\"Enter your age:\"))\n",
        "eno = input(\"Enter your enrollment No:\")\n",
        "formatted_string = f\"Welcome {name}\\n Student Age : {age}\\n Student id :{eno}\"\n",
        "print(formatted_string)\n"
      ]
    },
    {
      "cell_type": "code",
      "execution_count": null,
      "metadata": {
        "colab": {
          "base_uri": "https://localhost:8080/"
        },
        "id": "dxFCCKctU1nK",
        "outputId": "91c3ea71-17b0-490a-a3fe-dc10ae08dcf9"
      },
      "outputs": [
        {
          "name": "stdout",
          "output_type": "stream",
          "text": [
            "Enter the guest's name: abc\n",
            "Enter the event name: xyx\n",
            "Enter the event date: 15 sept 2024\n",
            "Dear abc, you are invited to xyx on 15 sept 2024.\n"
          ]
        }
      ],
      "source": [
        "name = input(\"Enter the guest's name: \")\n",
        "\n",
        "event = input(\"Enter the event name: \")\n",
        "\n",
        "date = input(\"Enter the event date: \")\n",
        "\n",
        "\n",
        "\n",
        "invitation = \"Dear {}, you are invited to {} on {}.\".format(name, event, date)\n",
        "\n",
        "print(invitation)\n",
        "\n"
      ]
    },
    {
      "cell_type": "code",
      "execution_count": null,
      "metadata": {
        "id": "DM85u9_7Z_NG"
      },
      "outputs": [],
      "source": [
        "name = input(\"Enter the guest's name: \")\n",
        "\n",
        "event = input(\"Enter the event name: \")\n",
        "\n",
        "date = input(\"Enter the event date: \")\n",
        "\n",
        "\n",
        "\n",
        "invitation = f\"Dear {name}, you are invited to {event} on {date}.\"\n",
        "\n",
        "print(invitation)\n"
      ]
    },
    {
      "cell_type": "code",
      "execution_count": null,
      "metadata": {
        "id": "ZVN2C9dfW15W"
      },
      "outputs": [],
      "source": [
        "distance = float(input(\"Enter the distance of the trip in kilometers: \"))\n",
        "\n",
        "cost_per_km = float(input(\"Enter the cost per kilometer in ₹: \"))\n",
        "\n",
        "\n",
        "\n",
        "total_expense = distance * cost_per_km\n",
        "\n",
        "print(\"The total travel expense for {} km at ₹{} per km is ₹{}.\".format(distance, cost_per_km, total_expense))\n",
        "\n"
      ]
    },
    {
      "cell_type": "code",
      "execution_count": null,
      "metadata": {
        "colab": {
          "base_uri": "https://localhost:8080/"
        },
        "id": "A6ETfotAFZ9R",
        "outputId": "86115014-9387-468d-9403-16e3ad01dc38"
      },
      "outputs": [
        {
          "name": "stdout",
          "output_type": "stream",
          "text": [
            "For only 49.00 dollars!\n"
          ]
        }
      ],
      "source": [
        "txt = \"For only {price:.2f} dollars!\"\n",
        "print(txt.format(price = 49))\n"
      ]
    },
    {
      "cell_type": "code",
      "execution_count": null,
      "metadata": {
        "colab": {
          "base_uri": "https://localhost:8080/"
        },
        "id": "w2U8BKVYF0bP",
        "outputId": "f7acbc9e-19dc-4ae6-d9c2-7c915d233fa4"
      },
      "outputs": [
        {
          "name": "stdout",
          "output_type": "stream",
          "text": [
            "My name is John, I'm 36\n",
            "My name is John, I'm 36\n",
            "My name is John, I'm 36\n"
          ]
        }
      ],
      "source": [
        "#named indexes:\n",
        "txt1 = \"My name is {fname}, I'm {age}\".format(fname = \"John\", age = 36)\n",
        "#numbered indexes:\n",
        "txt2 = \"My name is {0}, I'm {1}\".format(\"John\",36)\n",
        "#empty placeholders:\n",
        "txt3 = \"My name is {}, I'm {}\".format(\"John\",36)\n",
        "\n",
        "print(txt1)\n",
        "print(txt2)\n",
        "print(txt3)"
      ]
    },
    {
      "cell_type": "code",
      "execution_count": null,
      "metadata": {
        "colab": {
          "base_uri": "https://localhost:8080/"
        },
        "id": "XV7HEVzjGiy4",
        "outputId": "58fb136b-dbd3-413d-efbd-6c29c655e502"
      },
      "outputs": [
        {
          "name": "stdout",
          "output_type": "stream",
          "text": [
            "We have 49       chickens.\n"
          ]
        }
      ],
      "source": [
        "#To demonstrate, we insert the number 8 to set the available space for the value to 8 characters.\n",
        "\n",
        "#Use \"<\" to left-align the value:\n",
        "\n",
        "txt = \"We have {:<8} chickens.\"\n",
        "print(txt.format(49))"
      ]
    },
    {
      "cell_type": "code",
      "execution_count": null,
      "metadata": {
        "colab": {
          "base_uri": "https://localhost:8080/"
        },
        "id": "zFKfAYAoGt7W",
        "outputId": "1dc761d7-d934-4f27-8307-ee8507dc71a4"
      },
      "outputs": [
        {
          "name": "stdout",
          "output_type": "stream",
          "text": [
            "We have       49 chickens.\n"
          ]
        }
      ],
      "source": [
        "#To demonstrate, we insert the number 8 to set the available space for the value to 8 characters.\n",
        "\n",
        "#Use \">\" to right-align the value:\n",
        "\n",
        "txt = \"We have {:>8} chickens.\"\n",
        "print(txt.format(49))\n"
      ]
    },
    {
      "cell_type": "code",
      "execution_count": null,
      "metadata": {
        "colab": {
          "base_uri": "https://localhost:8080/"
        },
        "id": "8poZV1a8GzzI",
        "outputId": "0fc3e6b2-0756-4762-fba4-3c83c1573961"
      },
      "outputs": [
        {
          "name": "stdout",
          "output_type": "stream",
          "text": [
            "We have    49    chickens.\n"
          ]
        }
      ],
      "source": [
        "#To demonstrate, we insert the number 8 to set the available space for the value to 8 characters.\n",
        "\n",
        "#Use \"^\" to center-align the value:\n",
        "\n",
        "txt = \"We have {:^8} chickens.\"\n",
        "print(txt.format(49))"
      ]
    },
    {
      "cell_type": "code",
      "execution_count": null,
      "metadata": {
        "colab": {
          "base_uri": "https://localhost:8080/"
        },
        "id": "KjVD_G4DG9ZF",
        "outputId": "620b5f2a-f9cb-49ba-998e-18d3e435d936"
      },
      "outputs": [
        {
          "name": "stdout",
          "output_type": "stream",
          "text": [
            "The temperature is -      5 degrees celsius.\n"
          ]
        }
      ],
      "source": [
        "#To demonstrate, we insert the number 8 to specify the available space for the value.\n",
        "\n",
        "#Use \"=\" to place the plus/minus sign at the left most position:\n",
        "\n",
        "txt = \"The temperature is {:=8} degrees celsius.\"\n",
        "\n",
        "print(txt.format(-5))"
      ]
    },
    {
      "cell_type": "code",
      "execution_count": null,
      "metadata": {
        "colab": {
          "base_uri": "https://localhost:8080/"
        },
        "id": "AOOsFgndHhob",
        "outputId": "573af55a-917a-4364-9965-13146a2b45ba"
      },
      "outputs": [
        {
          "name": "stdout",
          "output_type": "stream",
          "text": [
            "The temperature is between -3 and +7 degrees celsius.\n"
          ]
        }
      ],
      "source": [
        "#Use \"+\" to always indicate if the number is positive or negative:\n",
        "\n",
        "txt = \"The temperature is between {:+} and {:+} degrees celsius.\"\n",
        "\n",
        "print(txt.format(-3, 7))\n"
      ]
    },
    {
      "cell_type": "code",
      "execution_count": null,
      "metadata": {
        "colab": {
          "base_uri": "https://localhost:8080/"
        },
        "id": "KkFYF95yIR_O",
        "outputId": "cf115cf5-3b2a-42a1-8a47-c8824501186d"
      },
      "outputs": [
        {
          "name": "stdout",
          "output_type": "stream",
          "text": [
            "The universe is 13,800,000,000 years old.\n"
          ]
        }
      ],
      "source": [
        "#Use \",\" to add a comma as a thousand separator:\n",
        "\n",
        "txt = \"The universe is {:,} years old.\"\n",
        "\n",
        "print(txt.format(13800000000))"
      ]
    },
    {
      "cell_type": "code",
      "execution_count": null,
      "metadata": {
        "colab": {
          "base_uri": "https://localhost:8080/"
        },
        "id": "KnfwlMUCIbgZ",
        "outputId": "8c52d35e-aecf-4620-990e-eee044db9eb6"
      },
      "outputs": [
        {
          "name": "stdout",
          "output_type": "stream",
          "text": [
            "The universe is 13_800_000_000 years old.\n"
          ]
        }
      ],
      "source": [
        "#Use \"_\" to add a underscore character as a thousand separator:\n",
        "\n",
        "txt = \"The universe is {:_} years old.\"\n",
        "\n",
        "print(txt.format(13800000000))\n"
      ]
    },
    {
      "cell_type": "code",
      "execution_count": null,
      "metadata": {
        "colab": {
          "base_uri": "https://localhost:8080/"
        },
        "id": "-wr8JsA-qXlH",
        "outputId": "e15e3d9f-8a0a-4665-8525-8f5fb9805110"
      },
      "outputs": [
        {
          "name": "stdout",
          "output_type": "stream",
          "text": [
            "<class 'bool'>\n",
            "<class 'tuple'>\n",
            "<class 'range'>\n"
          ]
        }
      ],
      "source": [
        "#Write a Python program to create variables of bool, tuple, and range types, and print their types.\n",
        "a = True\n",
        "\n",
        "print(type(a))\n",
        "\n",
        "b = (1, 2, 3)\n",
        "\n",
        "print(type(b))\n",
        "\n",
        "c = range(10)\n",
        "\n",
        "print(type(c))"
      ]
    },
    {
      "cell_type": "code",
      "execution_count": null,
      "metadata": {
        "id": "3SEPiBnawf8g"
      },
      "outputs": [],
      "source": [
        "#Given the radius, calculate the volume of the hemisphere and print it in the following format:\n",
        "\n",
        "#Volume of the Hemisphere: <volume>\n",
        "\n",
        "\n",
        "import math\n",
        "\n",
        "input_string = input(\"Enter the radius of the hemisphere: \")\n",
        "radius = float(input_string)\n",
        "\n",
        "volume = (2 / 3) * math.pi * (radius ** 3)\n",
        "print(f\"Volume of the Hemisphere: {volume:.2f}\")\n"
      ]
    },
    {
      "cell_type": "code",
      "execution_count": null,
      "metadata": {
        "colab": {
          "base_uri": "https://localhost:8080/"
        },
        "id": "vc-TCqVGyl-T",
        "outputId": "3b48acc4-52bd-4297-ad2d-3fb607d046ed"
      },
      "outputs": [
        {
          "name": "stdout",
          "output_type": "stream",
          "text": [
            "Enter your name: abc\n",
            "Enter the course name: 23\n",
            "Enter your grade: a\n",
            "Student: abc\n",
            " Course: 23\n",
            " Grade: a\n"
          ]
        }
      ],
      "source": [
        "#Create a variable named formatted_info using an f-string that includes the values of student_name, course_name, and grade. Then print a message in the following format:\n",
        "\n",
        "#Student: <student_name>\n",
        "#Course: <course_name>\n",
        "#Grade: <grade>\n",
        "\n",
        "\n",
        "name = input(\"Enter your name: \")\n",
        "course_name = input(\"Enter the course name: \")\n",
        "grade = input(\"Enter your grade: \")\n",
        "#formatted_string = f\"Welcome {name}\\n Student Age : {age}\\n Student id :{eno}\"\n",
        "#print(formatted_string)\n",
        "formatted_info = f\"Student: {name}\\n Course: {course_name}\\n Grade: {grade}\"\n",
        "print(formatted_info)"
      ]
    },
    {
      "cell_type": "code",
      "execution_count": null,
      "metadata": {
        "colab": {
          "base_uri": "https://localhost:8080/"
        },
        "id": "knLhlurI0NlN",
        "outputId": "8af46232-2448-4311-fc24-d9c032e1b8c5"
      },
      "outputs": [
        {
          "name": "stdout",
          "output_type": "stream",
          "text": [
            "Enter a list of boolean values (True/False) separated by commas: True, False\n",
            "Converted list: 1 0\n"
          ]
        }
      ],
      "source": [
        "# Read input from the user\n",
        "\n",
        "input_str = input(\"Enter a list of boolean values (True/False) separated by commas: \")\n",
        "\n",
        "\n",
        "\n",
        "# Convert the input string to individual items\n",
        "\n",
        "bool_str_list = input_str.split(\", \")\n",
        "\n",
        "\n",
        "\n",
        "# Initialize an empty string to store the result\n",
        "\n",
        "result_str = \"\"\n",
        "\n",
        "\n",
        "\n",
        "# Iterate through the boolean string items and convert them to integers\n",
        "\n",
        "for item_str in bool_str_list:\n",
        "\n",
        "    # Evaluate the item to convert it to a boolean value\n",
        "\n",
        "    item = eval(item_str)\n",
        "\n",
        "    # Check if the item is a boolean and convert to integer\n",
        "\n",
        "    if item == True or item == False:\n",
        "\n",
        "        result_str += str(int(item)) + \" \"\n",
        "\n",
        "\n",
        "\n",
        "# Remove the trailing space and print the result\n",
        "\n",
        "result_str = result_str.strip()\n",
        "\n",
        "print(f\"Converted list: {result_str}\")"
      ]
    },
    {
      "cell_type": "code",
      "execution_count": null,
      "metadata": {
        "id": "x2n1kvxm6TOO"
      },
      "outputs": [],
      "source": [
        "# Read input from the user\n",
        "\n",
        "input_str = input(\"Enter a list of values separated by commas (e.g., 1, 'text', 3.5, True): \")\n",
        "\n",
        "\n",
        "\n",
        "# Evaluate the input string to convert it to a list\n",
        "\n",
        "# Note: eval can be dangerous with untrusted input, use with caution\n",
        "\n",
        "mixed_list_str = input_str.split(\", \")\n",
        "\n",
        "\n",
        "\n",
        "# Initialize an empty string to store the result\n",
        "\n",
        "result_str = \"\"\n",
        "\n",
        "\n",
        "\n",
        "# Iterate through the split strings, evaluate each item, and check if it's an integer\n",
        "\n",
        "for item_str in mixed_list_str:\n",
        "\n",
        "    item = eval(item_str)\n",
        "\n",
        "    if type(item) == int:\n",
        "\n",
        "        result_str += str(item) + \" \"\n",
        "\n",
        "\n",
        "\n",
        "# Remove the trailing space and print the result\n",
        "\n",
        "result_str = result_str.strip()\n",
        "\n",
        "print(f\"Extracted integers: {result_str}\")\n",
        "\n"
      ]
    },
    {
      "cell_type": "code",
      "execution_count": null,
      "metadata": {
        "colab": {
          "base_uri": "https://localhost:8080/"
        },
        "id": "NNGAs1zkL0wN",
        "outputId": "1a034947-b417-4731-b55f-871741dcd908"
      },
      "outputs": [
        {
          "output_type": "stream",
          "name": "stdout",
          "text": [
            "('apple', 'apple', 'cherry')\n"
          ]
        }
      ],
      "source": [
        "mytuple = (\"apple\", \"apple\", \"cherry\")\n",
        "print(mytuple)"
      ]
    },
    {
      "cell_type": "code",
      "source": [
        "thistuple = (\"apple\", \"banana\", \"cherry\", \"apple\", \"cherry\")\n",
        "print(thistuple)"
      ],
      "metadata": {
        "colab": {
          "base_uri": "https://localhost:8080/"
        },
        "id": "2iA7vGENOXnj",
        "outputId": "abb5c0f8-461d-4d23-f474-c35184d0879a"
      },
      "execution_count": null,
      "outputs": [
        {
          "output_type": "stream",
          "name": "stdout",
          "text": [
            "('apple', 'banana', 'cherry', 'apple', 'cherry')\n"
          ]
        }
      ]
    },
    {
      "cell_type": "code",
      "source": [
        "thistuple = (\"apple\", \"banana\",\" \", \"cherry\")\n",
        "print(len(thistuple))"
      ],
      "metadata": {
        "colab": {
          "base_uri": "https://localhost:8080/"
        },
        "id": "PsqfKBd9ORCy",
        "outputId": "f47c2eb9-2c92-4870-c723-5fdb949743ea"
      },
      "execution_count": null,
      "outputs": [
        {
          "output_type": "stream",
          "name": "stdout",
          "text": [
            "4\n"
          ]
        }
      ]
    },
    {
      "cell_type": "code",
      "source": [
        "thistuple = (\"apple\",)\n",
        "print(type(thistuple))\n",
        "\n",
        "#NOT a tuple\n",
        "thistuple = (\"apple\")\n",
        "print(type(thistuple))"
      ],
      "metadata": {
        "colab": {
          "base_uri": "https://localhost:8080/"
        },
        "id": "JnUEUar2On2i",
        "outputId": "b3848599-69cb-445d-dc42-35fe6fa4d368"
      },
      "execution_count": null,
      "outputs": [
        {
          "output_type": "stream",
          "name": "stdout",
          "text": [
            "<class 'tuple'>\n",
            "<class 'str'>\n"
          ]
        }
      ]
    },
    {
      "cell_type": "code",
      "source": [
        "tuple1 = (\"apple\", \"banana\", \"cherry\")\n",
        "tuple2 = (1, 5, 7, 9, 3)\n",
        "tuple3 = (True, False, False)\n",
        "\n",
        "print(tuple1)\n",
        "print(tuple2)\n",
        "print(tuple3)"
      ],
      "metadata": {
        "colab": {
          "base_uri": "https://localhost:8080/"
        },
        "id": "73xU1903OvJH",
        "outputId": "e227cb4f-5803-4cc8-f746-d65fd321f334"
      },
      "execution_count": null,
      "outputs": [
        {
          "output_type": "stream",
          "name": "stdout",
          "text": [
            "('apple', 'banana', 'cherry')\n",
            "(1, 5, 7, 9, 3)\n",
            "(True, False, False)\n"
          ]
        }
      ]
    },
    {
      "cell_type": "code",
      "source": [
        "tuple1 = (\"abc\", 34, True, 40, \"male\")\n",
        "\n",
        "print(tuple1)"
      ],
      "metadata": {
        "colab": {
          "base_uri": "https://localhost:8080/"
        },
        "id": "k-5dnMSYPCqZ",
        "outputId": "d859f828-ed03-4290-dea0-37389442bf0d"
      },
      "execution_count": null,
      "outputs": [
        {
          "output_type": "stream",
          "name": "stdout",
          "text": [
            "('abc', 34, True, 40, 'male')\n"
          ]
        }
      ]
    },
    {
      "cell_type": "code",
      "source": [
        "#Using the tuple() method to make a tuple:\n",
        "thistuple = tuple((\"apple\", \"banana\", \"cherry\")) # note the double round-brackets\n",
        "print(thistuple)"
      ],
      "metadata": {
        "colab": {
          "base_uri": "https://localhost:8080/"
        },
        "id": "8DRjUq2hP5A6",
        "outputId": "48b8b20c-8f23-4e73-a576-ad3a62e0d5a7"
      },
      "execution_count": null,
      "outputs": [
        {
          "output_type": "stream",
          "name": "stdout",
          "text": [
            "('apple', 'banana', 'cherry')\n"
          ]
        }
      ]
    },
    {
      "cell_type": "code",
      "source": [
        "thistuple = (\"apple\", \"banana\", \"cherry\")\n",
        "print(thistuple[1])"
      ],
      "metadata": {
        "colab": {
          "base_uri": "https://localhost:8080/"
        },
        "id": "8GPhE4VNQpKv",
        "outputId": "43bc7ac8-63c5-4ec4-a226-fbb39bff68fd"
      },
      "execution_count": null,
      "outputs": [
        {
          "output_type": "stream",
          "name": "stdout",
          "text": [
            "banana\n"
          ]
        }
      ]
    },
    {
      "cell_type": "code",
      "source": [
        "thistuple = (\"apple\", \"banana\", \"cherry\")\n",
        "print(thistuple[-3])"
      ],
      "metadata": {
        "colab": {
          "base_uri": "https://localhost:8080/"
        },
        "id": "vjoOwY9MQyMG",
        "outputId": "9e82452e-e9bd-48d1-f582-c32496389178"
      },
      "execution_count": null,
      "outputs": [
        {
          "output_type": "stream",
          "name": "stdout",
          "text": [
            "apple\n"
          ]
        }
      ]
    },
    {
      "cell_type": "code",
      "source": [
        "thistuple = (\"apple\", \"banana\", \"cherry\", \"orange\", \"kiwi\", \"melon\", \"mango\")\n",
        "print(thistuple[2:5]) #Note: The search will start at index 2 (included) and end at index 5 (not included)."
      ],
      "metadata": {
        "colab": {
          "base_uri": "https://localhost:8080/"
        },
        "id": "LOcbsObcQ54e",
        "outputId": "f93928a2-bfe1-4ca7-834b-33907f459539"
      },
      "execution_count": null,
      "outputs": [
        {
          "output_type": "stream",
          "name": "stdout",
          "text": [
            "('cherry', 'orange', 'kiwi')\n"
          ]
        }
      ]
    },
    {
      "cell_type": "code",
      "source": [
        "thistuple = (\"apple\", \"banana\", \"cherry\", \"orange\", \"kiwi\", \"melon\", \"mango\")\n",
        "print(thistuple[:4])"
      ],
      "metadata": {
        "colab": {
          "base_uri": "https://localhost:8080/"
        },
        "id": "TOfTRqhcRbTM",
        "outputId": "b04f6ab8-6a55-4c65-d5d6-a21d557d227d"
      },
      "execution_count": null,
      "outputs": [
        {
          "output_type": "stream",
          "name": "stdout",
          "text": [
            "('apple', 'banana', 'cherry', 'orange')\n"
          ]
        }
      ]
    },
    {
      "cell_type": "code",
      "source": [
        "thistuple = (\"apple\", \"banana\", \"cherry\", \"orange\", \"kiwi\", \"melon\", \"mango\")\n",
        "print(thistuple[:4])"
      ],
      "metadata": {
        "colab": {
          "base_uri": "https://localhost:8080/"
        },
        "id": "m_6GPKbiRm5_",
        "outputId": "00f1e05a-962d-41d3-a80f-80354340882a"
      },
      "execution_count": null,
      "outputs": [
        {
          "output_type": "stream",
          "name": "stdout",
          "text": [
            "('apple', 'banana', 'cherry', 'orange')\n"
          ]
        }
      ]
    },
    {
      "cell_type": "code",
      "source": [
        "thistuple = (\"apple\", \"banana\", \"cherry\", \"orange\", \"kiwi\", \"melon\", \"mango\")\n",
        "print(thistuple[-4:-1])"
      ],
      "metadata": {
        "colab": {
          "base_uri": "https://localhost:8080/"
        },
        "id": "gAsVadM0Rw9F",
        "outputId": "66c05815-22a0-475b-d285-71792f9c2aa1"
      },
      "execution_count": null,
      "outputs": [
        {
          "output_type": "stream",
          "name": "stdout",
          "text": [
            "('orange', 'kiwi', 'melon')\n"
          ]
        }
      ]
    },
    {
      "cell_type": "code",
      "source": [
        "thistuple = (\"apple\", \"banana\", \"cherry\")\n",
        "if \"apple\" in thistuple:\n",
        "  print(\"Yes, 'apple' is in the fruits tuple\")"
      ],
      "metadata": {
        "colab": {
          "base_uri": "https://localhost:8080/"
        },
        "id": "6NZnoH4bR_FW",
        "outputId": "de36055d-9e84-4faf-ac85-460432c5b65a"
      },
      "execution_count": null,
      "outputs": [
        {
          "output_type": "stream",
          "name": "stdout",
          "text": [
            "Yes, 'apple' is in the fruits tuple\n"
          ]
        }
      ]
    },
    {
      "cell_type": "code",
      "source": [
        "thislist = [\"apple\", \"apple\", \"cherry\"]\n",
        "print(thislist)"
      ],
      "metadata": {
        "colab": {
          "base_uri": "https://localhost:8080/"
        },
        "id": "g8i1_wGLSLwt",
        "outputId": "9d9b0e1f-6d8d-4df2-b7ad-d51e98f0388d"
      },
      "execution_count": null,
      "outputs": [
        {
          "output_type": "stream",
          "name": "stdout",
          "text": [
            "['apple', 'apple', 'cherry']\n"
          ]
        }
      ]
    },
    {
      "cell_type": "code",
      "source": [
        "thislist = [\"apple\", \"banana\", \"cherry\"]\n",
        "print(len(thislist))"
      ],
      "metadata": {
        "colab": {
          "base_uri": "https://localhost:8080/"
        },
        "id": "72HUlUQtSSv1",
        "outputId": "5af3f537-0354-44ed-f379-8380bb5663fe"
      },
      "execution_count": null,
      "outputs": [
        {
          "output_type": "stream",
          "name": "stdout",
          "text": [
            "3\n"
          ]
        }
      ]
    },
    {
      "cell_type": "code",
      "source": [
        "list1 = [\"apple\", \"banana\", \"cherry\"]\n",
        "list2 = [1, 5, 7, 9, 3]\n",
        "list3 = [True, False, False]\n",
        "\n",
        "print(list1)\n",
        "print(list2)\n",
        "print(list3)\n"
      ],
      "metadata": {
        "colab": {
          "base_uri": "https://localhost:8080/"
        },
        "id": "YMESbi4fSX6S",
        "outputId": "b5ff1c79-65e5-4016-81ce-44984151e2a8"
      },
      "execution_count": null,
      "outputs": [
        {
          "output_type": "stream",
          "name": "stdout",
          "text": [
            "['apple', 'banana', 'cherry']\n",
            "[1, 5, 7, 9, 3]\n",
            "[True, False, False]\n"
          ]
        }
      ]
    },
    {
      "cell_type": "code",
      "source": [
        "list1 = [\"abc\", 34, True, 40, \"male\"]\n",
        "\n",
        "print(list1)"
      ],
      "metadata": {
        "colab": {
          "base_uri": "https://localhost:8080/"
        },
        "id": "cxYUFGOpSjGG",
        "outputId": "a3cd372e-33f0-4446-8dcc-879a8d113a43"
      },
      "execution_count": null,
      "outputs": [
        {
          "output_type": "stream",
          "name": "stdout",
          "text": [
            "['abc', 34, True, 40, 'male']\n"
          ]
        }
      ]
    },
    {
      "cell_type": "code",
      "source": [
        "thislist = list((\"apple\", \"banana\", \"cherry\")) # note the double round-brackets\n",
        "print(thislist)"
      ],
      "metadata": {
        "colab": {
          "base_uri": "https://localhost:8080/"
        },
        "id": "TnnP4JWKSyfE",
        "outputId": "3524fc5c-788f-4d4b-f267-d1f338511891"
      },
      "execution_count": null,
      "outputs": [
        {
          "output_type": "stream",
          "name": "stdout",
          "text": [
            "['apple', 'banana', 'cherry']\n"
          ]
        }
      ]
    },
    {
      "cell_type": "code",
      "source": [
        "thislist = [\"apple\", \"banana\", \"cherry\"]\n",
        "print(thislist[1])"
      ],
      "metadata": {
        "colab": {
          "base_uri": "https://localhost:8080/"
        },
        "id": "qyhKfZoHTEgE",
        "outputId": "f4f14be6-e38a-445d-98b2-2d9fbe092ccd"
      },
      "execution_count": null,
      "outputs": [
        {
          "output_type": "stream",
          "name": "stdout",
          "text": [
            "banana\n"
          ]
        }
      ]
    },
    {
      "cell_type": "code",
      "source": [
        "thislist = [\"apple\", \"banana\", \"cherry\"]\n",
        "print(thislist[-1])"
      ],
      "metadata": {
        "colab": {
          "base_uri": "https://localhost:8080/"
        },
        "id": "VpSZK0EITJTR",
        "outputId": "316fdff8-ba5d-46c7-bd5e-4a5ccc5b6990"
      },
      "execution_count": null,
      "outputs": [
        {
          "output_type": "stream",
          "name": "stdout",
          "text": [
            "cherry\n"
          ]
        }
      ]
    },
    {
      "cell_type": "code",
      "source": [
        "thislist = [\"apple\", \"banana\", \"cherry\", \"orange\", \"kiwi\", \"melon\", \"mango\"]\n",
        "print(thislist[2:5])"
      ],
      "metadata": {
        "colab": {
          "base_uri": "https://localhost:8080/"
        },
        "id": "bnBAMEoBTNXj",
        "outputId": "f4fc6d71-0bfa-4ab6-cdc9-34d3aeb6ba12"
      },
      "execution_count": null,
      "outputs": [
        {
          "output_type": "stream",
          "name": "stdout",
          "text": [
            "['cherry', 'orange', 'kiwi']\n"
          ]
        }
      ]
    },
    {
      "cell_type": "code",
      "source": [
        "thislist = [\"apple\", \"banana\", \"cherry\", \"orange\", \"kiwi\", \"melon\", \"mango\"]\n",
        "print(thislist[:4])"
      ],
      "metadata": {
        "colab": {
          "base_uri": "https://localhost:8080/"
        },
        "id": "LpYuY666TVkB",
        "outputId": "3cfe5b65-a03e-4ce4-f911-31569a39944a"
      },
      "execution_count": null,
      "outputs": [
        {
          "output_type": "stream",
          "name": "stdout",
          "text": [
            "['apple', 'banana', 'cherry', 'orange']\n"
          ]
        }
      ]
    },
    {
      "cell_type": "code",
      "source": [
        "thislist = [\"apple\", \"banana\", \"cherry\", \"orange\", \"kiwi\", \"melon\", \"mango\"]\n",
        "print(thislist[2:])"
      ],
      "metadata": {
        "colab": {
          "base_uri": "https://localhost:8080/"
        },
        "id": "NWdYwckFTYrY",
        "outputId": "c1a73995-0bdf-4cd3-aa4c-9b608b0662d2"
      },
      "execution_count": null,
      "outputs": [
        {
          "output_type": "stream",
          "name": "stdout",
          "text": [
            "['cherry', 'orange', 'kiwi', 'melon', 'mango']\n"
          ]
        }
      ]
    },
    {
      "cell_type": "code",
      "source": [
        "thislist = [\"apple\", \"banana\", \"cherry\", \"orange\", \"kiwi\", \"melon\", \"mango\"]\n",
        "print(thislist[-4:-1])"
      ],
      "metadata": {
        "colab": {
          "base_uri": "https://localhost:8080/"
        },
        "id": "DltrNCWKTcNy",
        "outputId": "bb56367d-0ccc-4453-fd87-ff4c61674a40"
      },
      "execution_count": null,
      "outputs": [
        {
          "output_type": "stream",
          "name": "stdout",
          "text": [
            "['orange', 'kiwi', 'melon']\n"
          ]
        }
      ]
    },
    {
      "cell_type": "code",
      "source": [
        "thislist = [\"apple\", \"banana\", \"cherry\"]\n",
        "if \"apple\" in thislist:\n",
        "  print(\"Yes, 'apple' is in the fruits list\")"
      ],
      "metadata": {
        "colab": {
          "base_uri": "https://localhost:8080/"
        },
        "id": "NCcKtIJRTgEe",
        "outputId": "2a6efa1c-6634-45d1-c581-14e941b855f8"
      },
      "execution_count": null,
      "outputs": [
        {
          "output_type": "stream",
          "name": "stdout",
          "text": [
            "Yes, 'apple' is in the fruits list\n"
          ]
        }
      ]
    },
    {
      "cell_type": "code",
      "source": [
        "thislist = [\"apple\", \"banana\", \"cherry\"]\n",
        "thislist[1] = \"blackcurrant\"\n",
        "print(thislist)"
      ],
      "metadata": {
        "colab": {
          "base_uri": "https://localhost:8080/"
        },
        "id": "eo3xTFGjTnTu",
        "outputId": "560f9a3c-4caf-49c1-996f-77dd3361aa92"
      },
      "execution_count": null,
      "outputs": [
        {
          "output_type": "stream",
          "name": "stdout",
          "text": [
            "['apple', 'blackcurrant', 'cherry']\n"
          ]
        }
      ]
    },
    {
      "cell_type": "code",
      "source": [
        "#Change the values \"banana\" and \"cherry\" with the values \"blackcurrant\" and \"watermelon\":\n",
        "thislist = [\"apple\", \"banana\", \"cherry\", \"orange\", \"kiwi\", \"mango\"]\n",
        "thislist[1:3] = [\"blackcurrant\", \"watermelon\"]\n",
        "print(thislist)"
      ],
      "metadata": {
        "colab": {
          "base_uri": "https://localhost:8080/"
        },
        "id": "3h58MMKLTv7p",
        "outputId": "37f9ab90-14b9-4b56-b200-b75f946ad1bc"
      },
      "execution_count": null,
      "outputs": [
        {
          "output_type": "stream",
          "name": "stdout",
          "text": [
            "['apple', 'blackcurrant', 'watermelon', 'orange', 'kiwi', 'mango']\n"
          ]
        }
      ]
    },
    {
      "cell_type": "code",
      "source": [
        "#Change the second value by replacing it with two new values:\n",
        "thislist = [\"apple\", \"banana\", \"cherry\"]\n",
        "thislist[1:2] = [\"blackcurrant\", \"watermelon\"]\n",
        "print(thislist)"
      ],
      "metadata": {
        "colab": {
          "base_uri": "https://localhost:8080/"
        },
        "id": "YiiAHnuYT6iM",
        "outputId": "e67aa634-5ce2-4ed7-dcd0-d7164d297df2"
      },
      "execution_count": null,
      "outputs": [
        {
          "output_type": "stream",
          "name": "stdout",
          "text": [
            "['apple', 'blackcurrant', 'watermelon', 'cherry']\n"
          ]
        }
      ]
    },
    {
      "cell_type": "code",
      "source": [
        "#Change the second and third value by replacing it with one value:\n",
        "thislist = [\"apple\", \"banana\", \"cherry\"]\n",
        "thislist[1:3] = [\"watermelon\"]\n",
        "print(thislist)"
      ],
      "metadata": {
        "colab": {
          "base_uri": "https://localhost:8080/"
        },
        "id": "PwqczM2GUEoU",
        "outputId": "6cb95b33-8a0c-4099-ed11-d3156580e7cd"
      },
      "execution_count": null,
      "outputs": [
        {
          "output_type": "stream",
          "name": "stdout",
          "text": [
            "['apple', 'watermelon']\n"
          ]
        }
      ]
    },
    {
      "cell_type": "code",
      "source": [
        "#Insert \"watermelon\" as the third item:\n",
        "thislist = [\"apple\", \"banana\", \"cherry\"]\n",
        "thislist.insert(2, \"watermelon\")\n",
        "print(thislist)"
      ],
      "metadata": {
        "colab": {
          "base_uri": "https://localhost:8080/"
        },
        "id": "ZTtGjFVeUNLB",
        "outputId": "7e422ec0-99c2-4afc-ef03-9f3f71d0874b"
      },
      "execution_count": null,
      "outputs": [
        {
          "output_type": "stream",
          "name": "stdout",
          "text": [
            "['apple', 'banana', 'watermelon', 'cherry']\n"
          ]
        }
      ]
    },
    {
      "cell_type": "code",
      "source": [
        "thisset = {\"apple\", \"apple\", \"cherry\", \"apple\"}\n",
        "\n",
        "print(thisset)"
      ],
      "metadata": {
        "colab": {
          "base_uri": "https://localhost:8080/"
        },
        "id": "DUdDzu7OU2QV",
        "outputId": "8a592daa-c5b6-4b6c-f014-6a2f8925c6ee"
      },
      "execution_count": null,
      "outputs": [
        {
          "output_type": "stream",
          "name": "stdout",
          "text": [
            "{'cherry', 'apple'}\n"
          ]
        }
      ]
    },
    {
      "cell_type": "code",
      "source": [
        "thisset = {\"apple\", \"banana\", \"cherry\", True, 1, 2}\n",
        "\n",
        "print(thisset)"
      ],
      "metadata": {
        "colab": {
          "base_uri": "https://localhost:8080/"
        },
        "id": "D-Wd7q2VU7t2",
        "outputId": "db1aa8fd-4fb9-4d76-86d4-a5ed28ad4d47"
      },
      "execution_count": null,
      "outputs": [
        {
          "output_type": "stream",
          "name": "stdout",
          "text": [
            "{True, 2, 'cherry', 'apple', 'banana'}\n"
          ]
        }
      ]
    },
    {
      "cell_type": "code",
      "source": [
        "#You cannot access items in a set by referring to an index or a key.\n",
        "\n",
        "#But you can loop through the set items using a for loop, or ask if a specified value is present in a set, by using the in keyword.\n",
        "\n",
        "thisset = {\"apple\", \"banana\", \"cherry\"}\n",
        "\n",
        "for x in thisset:\n",
        "  print(x)"
      ],
      "metadata": {
        "colab": {
          "base_uri": "https://localhost:8080/"
        },
        "id": "QigZebPWVdGb",
        "outputId": "13bd2189-1142-4900-a06e-0f88af6ff6ea"
      },
      "execution_count": null,
      "outputs": [
        {
          "output_type": "stream",
          "name": "stdout",
          "text": [
            "banana\n",
            "cherry\n",
            "apple\n"
          ]
        }
      ]
    },
    {
      "cell_type": "code",
      "source": [
        "thisset = {\"apple\", \"banana\", \"cherry\"}\n",
        "\n",
        "print(\"banana\" in thisset)"
      ],
      "metadata": {
        "colab": {
          "base_uri": "https://localhost:8080/"
        },
        "id": "UyHVfa5DVkVm",
        "outputId": "9dc83eee-70ca-46df-e783-070fdc129541"
      },
      "execution_count": null,
      "outputs": [
        {
          "output_type": "stream",
          "name": "stdout",
          "text": [
            "True\n"
          ]
        }
      ]
    },
    {
      "cell_type": "code",
      "source": [
        "thisset = {\"apple\", \"banana\", \"cherry\"}\n",
        "\n",
        "print(\"banana\" not in thisset)"
      ],
      "metadata": {
        "colab": {
          "base_uri": "https://localhost:8080/"
        },
        "id": "ihuV80SjVsFc",
        "outputId": "d23f64ec-eecf-440b-ca80-4b202847d7f4"
      },
      "execution_count": null,
      "outputs": [
        {
          "output_type": "stream",
          "name": "stdout",
          "text": [
            "False\n"
          ]
        }
      ]
    },
    {
      "cell_type": "code",
      "source": [
        "thisset = {\"apple\", \"banana\", \"cherry\"}\n",
        "\n",
        "thisset.add(\"orange\")\n",
        "\n",
        "print(thisset)"
      ],
      "metadata": {
        "colab": {
          "base_uri": "https://localhost:8080/"
        },
        "id": "F_0Rwy2ZWVyC",
        "outputId": "e0697408-eb3d-4d09-a4e2-174e78e93145"
      },
      "execution_count": null,
      "outputs": [
        {
          "output_type": "stream",
          "name": "stdout",
          "text": [
            "{'orange', 'banana', 'cherry', 'apple'}\n"
          ]
        }
      ]
    },
    {
      "cell_type": "code",
      "source": [
        "thisdict =\t{\n",
        "  \"brand\": \"Ford\",\n",
        "  \"model\": \"Mustang\",\n",
        "  \"year\": 1964\n",
        "}\n",
        "print(thisdict)"
      ],
      "metadata": {
        "colab": {
          "base_uri": "https://localhost:8080/"
        },
        "id": "eDZyv2M4W0DU",
        "outputId": "6c51d160-524d-4653-9d8c-266b2106d2f3"
      },
      "execution_count": null,
      "outputs": [
        {
          "output_type": "stream",
          "name": "stdout",
          "text": [
            "{'brand': 'Ford', 'model': 'Mustang', 'year': 1964}\n"
          ]
        }
      ]
    },
    {
      "cell_type": "code",
      "source": [
        "thisdict =\t{\n",
        "  \"brand\": \"Ford\",\n",
        "  \"model\": \"Mustang\",\n",
        "  \"year\": 1964\n",
        "}\n",
        "x = thisdict[\"model\"]\n",
        "print(x)"
      ],
      "metadata": {
        "colab": {
          "base_uri": "https://localhost:8080/"
        },
        "id": "xHu6AcepXSPF",
        "outputId": "c22ae4ae-f050-4654-def5-f777449e9986"
      },
      "execution_count": null,
      "outputs": [
        {
          "output_type": "stream",
          "name": "stdout",
          "text": [
            "Mustang\n"
          ]
        }
      ]
    },
    {
      "cell_type": "code",
      "source": [
        "car = {\n",
        "\"brand\": \"Ford\",\n",
        "\"model\": \"Mustang\",\n",
        "\"year\": 1964\n",
        "}\n",
        "\n",
        "x = car.keys()\n",
        "\n",
        "print(x) #before the change\n",
        "\n",
        "car[\"color\"] = \"white\"\n",
        "\n",
        "print(x) #after the change"
      ],
      "metadata": {
        "colab": {
          "base_uri": "https://localhost:8080/"
        },
        "id": "aR68aPMRXjP_",
        "outputId": "3cc5e243-016d-4eee-b8ca-37d9ed2db8c8"
      },
      "execution_count": null,
      "outputs": [
        {
          "output_type": "stream",
          "name": "stdout",
          "text": [
            "dict_keys(['brand', 'model', 'year'])\n",
            "dict_keys(['brand', 'model', 'year', 'color'])\n"
          ]
        }
      ]
    }
  ],
  "metadata": {
    "colab": {
      "provenance": [],
      "authorship_tag": "ABX9TyOWkS7xkOlqFuUVUPuZUgSX",
      "include_colab_link": true
    },
    "kernelspec": {
      "display_name": "Python 3",
      "name": "python3"
    },
    "language_info": {
      "name": "python"
    }
  },
  "nbformat": 4,
  "nbformat_minor": 0
}